{
 "cells": [
  {
   "cell_type": "markdown",
   "id": "726a502a-bf12-45ee-b920-67465a55571b",
   "metadata": {},
   "source": [
    "## PR6 자료구조 이동규"
   ]
  },
  {
   "cell_type": "code",
   "execution_count": 7,
   "id": "2181eb02-c5be-479d-a75d-c550771f54f6",
   "metadata": {},
   "outputs": [
    {
     "name": "stdout",
     "output_type": "stream",
     "text": [
      "[1, 2, 3, 4, 5, 10, 20]\n",
      "[1, 2, 3, 4, 5, 10]\n",
      "[1, 2, 3, 4, 5]\n",
      "[1, 2, 3, 4]\n",
      "[2, 3, 4]\n",
      "[3, 4]\n"
     ]
    }
   ],
   "source": [
    "a=[1,2,3,4,5]\n",
    "a.append(10)\n",
    "a.append(20)\n",
    "print(a)\n",
    "a.pop()\n",
    "print(a)\n",
    "a.pop()\n",
    "print(a)\n",
    "a.pop()\n",
    "print(a)\n",
    "a.pop(0)\n",
    "print(a)\n",
    "a.pop(0)\n",
    "print(a)"
   ]
  },
  {
   "cell_type": "code",
   "execution_count": 12,
   "id": "d44ce322-c20b-41ad-824a-086dbb55ee58",
   "metadata": {},
   "outputs": [
    {
     "name": "stdout",
     "output_type": "stream",
     "text": [
      "1 1\n",
      "1 10\n"
     ]
    },
    {
     "ename": "TypeError",
     "evalue": "'tuple' object does not support item assignment",
     "output_type": "error",
     "traceback": [
      "\u001b[0;31m---------------------------------------------------------------------------\u001b[0m",
      "\u001b[0;31mTypeError\u001b[0m                                 Traceback (most recent call last)",
      "Cell \u001b[0;32mIn[12], line 10\u001b[0m\n\u001b[1;32m      8\u001b[0m a[\u001b[38;5;241m0\u001b[39m] \u001b[38;5;241m=\u001b[39m \u001b[38;5;241m10\u001b[39m\n\u001b[1;32m      9\u001b[0m \u001b[38;5;28mprint\u001b[39m(t[\u001b[38;5;241m0\u001b[39m], a[\u001b[38;5;241m0\u001b[39m])\n\u001b[0;32m---> 10\u001b[0m \u001b[43mt\u001b[49m\u001b[43m[\u001b[49m\u001b[38;5;241;43m0\u001b[39;49m\u001b[43m]\u001b[49m \u001b[38;5;241m=\u001b[39m \u001b[38;5;241m10\u001b[39m\n\u001b[1;32m     11\u001b[0m \u001b[38;5;28mprint\u001b[39m(t[\u001b[38;5;241m0\u001b[39m], a[\u001b[38;5;241m0\u001b[39m])\n",
      "\u001b[0;31mTypeError\u001b[0m: 'tuple' object does not support item assignment"
     ]
    }
   ],
   "source": [
    "## tuple\n",
    "\n",
    "t=(1,2,3)\n",
    "a=[1,2,3]\n",
    "\n",
    "print(t[0], a[0])\n",
    "\n",
    "a[0] = 10\n",
    "print(t[0], a[0])\n",
    "t[0] = 10 ## tuple 은 assignment 불가(error)\n",
    "print(t[0], a[0])\n"
   ]
  },
  {
   "cell_type": "code",
   "execution_count": 23,
   "id": "2b258132-ed84-435d-ae2d-f74a66a6220b",
   "metadata": {},
   "outputs": [
    {
     "name": "stdout",
     "output_type": "stream",
     "text": [
      "{1, 2, 3, 5}\n",
      "{1, 2, 3, 5}\n",
      "{1, 2, 3, 4, 5}\n",
      "{1, 2, 3, 4, 5, 7, 8}\n",
      "{1, 3, 4, 5, 7, 8}\n",
      "{1, 4, 5, 7, 8}\n",
      "set()\n"
     ]
    }
   ],
   "source": [
    "s=set([1,2,3,1,2,1,2,5])\n",
    "print(s)\n",
    "s.add(2)\n",
    "print(s)\n",
    "s.add(4)\n",
    "print(s)\n",
    "s.update([1,3,7,8])\n",
    "print(s)\n",
    "s.remove(2)\n",
    "print(s)\n",
    "s.discard(3)\n",
    "print(s)\n",
    "s.clear()\n",
    "print(s)"
   ]
  },
  {
   "cell_type": "code",
   "execution_count": 29,
   "id": "f22d728b-5fbb-42c7-8c22-b1dc60e16c40",
   "metadata": {},
   "outputs": [
    {
     "name": "stdout",
     "output_type": "stream",
     "text": [
      "{3, 4, 5}\n",
      "{3, 4, 5}\n",
      "{1, 2, 3, 4, 5, 6, 7}\n",
      "{1, 2, 3, 4, 5, 6, 7}\n",
      "{1, 2}\n",
      "{1, 2}\n"
     ]
    }
   ],
   "source": [
    "s1=set([1,2,3,4,5])\n",
    "s2=set([3,4,5,6,7])\n",
    "print(s1&s2)\n",
    "print(s1.intersection(s2))\n",
    "print(s1|s2)\n",
    "print(s1.union(s2))\n",
    "print(s1-s2)\n",
    "print(s1.difference(s2))\n"
   ]
  },
  {
   "cell_type": "code",
   "execution_count": 38,
   "id": "c53b08bb-9533-464e-9fe1-581dc767a9b6",
   "metadata": {},
   "outputs": [
    {
     "name": "stdout",
     "output_type": "stream",
     "text": [
      "{'America': 1, 'Korea': 82, 'China': 86, 'Japan': 81, 'Germany': 49}\n",
      "dict_keys(['America', 'Korea', 'China', 'Japan', 'Germany'])\n",
      "dict_values([1, 82, 86, 81, 49])\n",
      "dict_items([('America', 1), ('Korea', 82), ('China', 86), ('Japan', 81), ('Germany', 49)])\n"
     ]
    }
   ],
   "source": [
    "country_code = {\"America\":1,\"Korea\":82,\"China\":86,\"Japan\":81,\"Germany\":49}\n",
    "print(country_code)\n",
    "print(country_code.keys())\n",
    "print(country_code.values())\n",
    "print(country_code.items())"
   ]
  },
  {
   "cell_type": "code",
   "execution_count": 42,
   "id": "de29407f-9823-416b-9706-c88936bbf1db",
   "metadata": {},
   "outputs": [
    {
     "name": "stdout",
     "output_type": "stream",
     "text": [
      "1\n",
      "82\n"
     ]
    }
   ],
   "source": [
    "print(country_code[\"America\"])\n",
    "print(country_code.get(\"Korea\"))"
   ]
  },
  {
   "cell_type": "code",
   "execution_count": 39,
   "id": "603752b9-6a51-4aae-b1cb-de49af4d14ed",
   "metadata": {},
   "outputs": [
    {
     "name": "stdout",
     "output_type": "stream",
     "text": [
      "America 1\n",
      "Korea 82\n",
      "China 86\n",
      "Japan 81\n",
      "Germany 49\n"
     ]
    }
   ],
   "source": [
    "for k,v in country_code.items():\n",
    "    print(k,v)"
   ]
  },
  {
   "cell_type": "code",
   "execution_count": 45,
   "id": "efa2a6cf-c222-4b28-856e-f55a720985a9",
   "metadata": {},
   "outputs": [
    {
     "name": "stdin",
     "output_type": "stream",
     "text": [
      "당신의 MBTI 유형을 입력하세요 (예: INFP):  d\n"
     ]
    },
    {
     "name": "stdout",
     "output_type": "stream",
     "text": [
      "죄송해요. 해당 MBTI 유형은 데이터에 없어요. 🥲\n"
     ]
    }
   ],
   "source": [
    "mbti_jobs = {\n",
    "    \"INTJ\": \"전략 컨설턴트, 데이터 과학자, 시스템 설계자\",\n",
    "    \"INTP\": \"연구원, 프로그래머, 이론 물리학자\",\n",
    "    \"ENTJ\": \"경영자, 프로젝트 매니저, 투자 분석가\",\n",
    "    \"ENTP\": \"스타트업 창업가, 마케터, 발명가\",\n",
    "    \"INFJ\": \"심리상담사, 작가, 사회운동가\",\n",
    "    \"INFP\": \"예술가, 작사가, 인권 활동가\",\n",
    "    \"ENFJ\": \"교사, HR 매니저, 커뮤니케이션 디렉터\",\n",
    "    \"ENFP\": \"기획자, 광고 크리에이터, 여행 작가\",\n",
    "    \"ISTJ\": \"회계사, 관리자, 공무원\",\n",
    "    \"ISFJ\": \"간호사, 사회복지사, 사서\",\n",
    "    \"ESTJ\": \"군인, 기업 관리자, 품질 관리자\",\n",
    "    \"ESFJ\": \"교사, 이벤트 플래너, 고객 서비스 매니저\",\n",
    "    \"ISTP\": \"기계 엔지니어, 파일럿, 정비사\",\n",
    "    \"ISFP\": \"패션 디자이너, 사진작가, 플로리스트\",\n",
    "    \"ESTP\": \"영업 전문가, 응급 구조사, 스포츠 코치\",\n",
    "    \"ESFP\": \"연예인, 여행 가이드, 쇼호스트\"\n",
    "}\n",
    "\n",
    "mbti = input(\"당신의 MBTI 유형을 입력하세요 (예: INFP): \").upper()\n",
    "\n",
    "job = mbti_jobs.get(mbti)\n",
    "\n",
    "if job:\n",
    "    print(f\"\\n[{mbti}] 유형에게 어울리는 직업은 다음과 같습니다:\\n👉 {job}\")\n",
    "else:    \n",
    "    print(\"죄송해요. 해당 MBTI 유형은 데이터에 없어요. 🥲\")"
   ]
  },
  {
   "cell_type": "code",
   "execution_count": 52,
   "id": "a000a553-dd40-4eeb-9e68-da71c2e3e060",
   "metadata": {},
   "outputs": [
    {
     "name": "stdout",
     "output_type": "stream",
     "text": [
      "redbluegreenpupple\n",
      "red,blue,green,pupple\n",
      "red blue green pupple\n"
     ]
    }
   ],
   "source": [
    "colors=['red','blue','green','pupple']\n",
    "result=''.join(colors)\n",
    "print(result)\n",
    "result2=','.join(colors)\n",
    "print(result2)\n",
    "result3=' '.join(colors)\n",
    "print(result3)"
   ]
  },
  {
   "cell_type": "code",
   "execution_count": 53,
   "id": "66113fb0-e9f8-423a-acd3-79a724d19b41",
   "metadata": {},
   "outputs": [
    {
     "name": "stdout",
     "output_type": "stream",
     "text": [
      "['Trump', 'administration', 'concedes', 'father', 'from', 'El', 'Salvador', 'was', 'mistakenly', 'deported', 'and', 'sent', 'to', 'mega', 'prison']\n"
     ]
    }
   ],
   "source": [
    "items = 'Trump administration concedes father from El Salvador was mistakenly deported and sent to mega prison'.split()\n",
    "print(items)"
   ]
  },
  {
   "cell_type": "code",
   "execution_count": 58,
   "id": "be778aa9-fc2c-457a-9116-e56c8ccc9e0e",
   "metadata": {},
   "outputs": [
    {
     "name": "stdout",
     "output_type": "stream",
     "text": [
      "['a', 'b', 'c', 'd']\n",
      "['www', 'naver', 'com']\n",
      "naver\n"
     ]
    }
   ],
   "source": [
    "ex1=\"a,b,c,d\"\n",
    "r1=ex1.split(\",\")\n",
    "print(r1)\n",
    "ex2=\"www.naver.com\"\n",
    "r2=ex2.split(\".\")\n",
    "print(r2)\n",
    "subdomain,domain,tld=r2\n",
    "print(domain)"
   ]
  },
  {
   "cell_type": "code",
   "execution_count": 63,
   "id": "79fdf3a5-fe3f-414c-856a-87f857de088c",
   "metadata": {},
   "outputs": [
    {
     "name": "stdout",
     "output_type": "stream",
     "text": [
      "[80, 40, 60, 100, 120]\n"
     ]
    }
   ],
   "source": [
    " wages=[40,20,30,50,60]\n",
    "r_wages=[i*2 for i in wages]\n",
    "print(r_wages)"
   ]
  },
  {
   "cell_type": "code",
   "execution_count": 68,
   "id": "81308830-3611-4061-bd6f-7e408fb868db",
   "metadata": {},
   "outputs": [
    {
     "name": "stdout",
     "output_type": "stream",
     "text": [
      "[20, 40, 60, 100, 120]\n"
     ]
    }
   ],
   "source": [
    "wages=[10,20,30,50,60]\n",
    "r_wages=[]\n",
    "for i in wages:\n",
    "    r_wages.append(i*2)\n",
    "print(r_wages)"
   ]
  },
  {
   "cell_type": "code",
   "execution_count": 1,
   "id": "19c5c2af-d772-413a-a370-8f961ebe73eb",
   "metadata": {},
   "outputs": [
    {
     "name": "stdout",
     "output_type": "stream",
     "text": [
      "git version 2.34.1\n"
     ]
    }
   ],
   "source": [
    "!git --version"
   ]
  },
  {
   "cell_type": "code",
   "execution_count": 2,
   "id": "bd0fe3ba-ed82-4475-9242-3108bf09e069",
   "metadata": {},
   "outputs": [
    {
     "name": "stdout",
     "output_type": "stream",
     "text": [
      "\u001b[33mhint: Using 'master' as the name for the initial branch. This default branch name\u001b[m\n",
      "\u001b[33mhint: is subject to change. To configure the initial branch name to use in all\u001b[m\n",
      "\u001b[33mhint: of your new repositories, which will suppress this warning, call:\u001b[m\n",
      "\u001b[33mhint: \u001b[m\n",
      "\u001b[33mhint: \tgit config --global init.defaultBranch <name>\u001b[m\n",
      "\u001b[33mhint: \u001b[m\n",
      "\u001b[33mhint: Names commonly chosen instead of 'master' are 'main', 'trunk' and\u001b[m\n",
      "\u001b[33mhint: 'development'. The just-created branch can be renamed via this command:\u001b[m\n",
      "\u001b[33mhint: \u001b[m\n",
      "\u001b[33mhint: \tgit branch -m <name>\u001b[m\n",
      "Initialized empty Git repository in /home/dkong002/.git/\n"
     ]
    }
   ],
   "source": [
    "!git init"
   ]
  },
  {
   "cell_type": "code",
   "execution_count": 4,
   "id": "1aabd5cb-4bc6-4eca-ab82-4e99c27e7785",
   "metadata": {},
   "outputs": [],
   "source": [
    "!git config --global user.name \"dongkue\""
   ]
  },
  {
   "cell_type": "code",
   "execution_count": 5,
   "id": "9de27cb7-5abd-44e0-9e5a-c938b3672412",
   "metadata": {},
   "outputs": [],
   "source": [
    "!git config --global user.email \"dongkuegood@naver.com\""
   ]
  },
  {
   "cell_type": "code",
   "execution_count": 6,
   "id": "e1d8f028-1856-4bc4-b93e-326078289fa7",
   "metadata": {},
   "outputs": [
    {
     "name": "stdout",
     "output_type": "stream",
     "text": [
      "On branch master\n",
      "\n",
      "No commits yet\n",
      "\n",
      "Untracked files:\n",
      "  (use \"git add <file>...\" to include in what will be committed)\n",
      "\t\u001b[31m.cache/\u001b[m\n",
      "\t\u001b[31m.gitconfig\u001b[m\n",
      "\t\u001b[31m.ipynb_checkpoints/\u001b[m\n",
      "\t\u001b[31m.ipython/\u001b[m\n",
      "\t\u001b[31m.jupyter/\u001b[m\n",
      "\t\u001b[31m.local/\u001b[m\n",
      "\t\u001b[31m.npm/\u001b[m\n",
      "\t\u001b[31m.ssh/\u001b[m\n",
      "\t\u001b[31mUntitled.ipynb\u001b[m\n",
      "\t\u001b[31mUntitled1.ipynb\u001b[m\n",
      "\t\u001b[31mUntitled2.ipynb\u001b[m\n",
      "\t\u001b[31mUntitled3.ipynb\u001b[m\n",
      "\t\u001b[31mUntitled4.ipynb\u001b[m\n",
      "\t\u001b[31mUntitled5.ipynb\u001b[m\n",
      "\t\u001b[31mUntitled6.ipynb\u001b[m\n",
      "\t\u001b[31mchap1-3.ipynb\u001b[m\n",
      "\t\u001b[31m\"pr3_\\354\\235\\264\\353\\217\\231\\352\\267\\234.ipynb\"\u001b[m\n",
      "\t\u001b[31m\"pr5_\\354\\235\\264\\353\\217\\231\\352\\267\\234.ipynb\"\u001b[m\n",
      "\t\u001b[31m\"pr6_\\354\\235\\264\\353\\217\\231\\352\\267\\234.ipynb\"\u001b[m\n",
      "\t\u001b[31mworkspace/\u001b[m\n",
      "\n",
      "nothing added to commit but untracked files present (use \"git add\" to track)\n"
     ]
    }
   ],
   "source": [
    "!git status"
   ]
  },
  {
   "cell_type": "code",
   "execution_count": 7,
   "id": "9178e1b0-20f7-4b72-8908-ead1a007e761",
   "metadata": {},
   "outputs": [],
   "source": [
    "!git remote add origin \"https://github.com/dongkue/ajou_mba_1.git\""
   ]
  },
  {
   "cell_type": "code",
   "execution_count": 8,
   "id": "1d47a8a2-6df1-4a4c-8579-96af2c445259",
   "metadata": {},
   "outputs": [],
   "source": [
    "!git branch -m master main"
   ]
  },
  {
   "cell_type": "code",
   "execution_count": null,
   "id": "8c3cfec1-5a0f-44a4-94a3-cd750a196721",
   "metadata": {},
   "outputs": [],
   "source": []
  }
 ],
 "metadata": {
  "kernelspec": {
   "display_name": "Python 3 (ipykernel)",
   "language": "python",
   "name": "python3"
  },
  "language_info": {
   "codemirror_mode": {
    "name": "ipython",
    "version": 3
   },
   "file_extension": ".py",
   "mimetype": "text/x-python",
   "name": "python",
   "nbconvert_exporter": "python",
   "pygments_lexer": "ipython3",
   "version": "3.11.6"
  }
 },
 "nbformat": 4,
 "nbformat_minor": 5
}
